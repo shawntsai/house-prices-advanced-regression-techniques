{
 "cells": [
  {
   "cell_type": "code",
   "execution_count": 4,
   "metadata": {
    "collapsed": false
   },
   "outputs": [
    {
     "name": "stdout",
     "output_type": "stream",
     "text": [
      "data_description.webarchive\n",
      "sample_submission.csv\n",
      "test.csv\n",
      "train.csv\n",
      "\n"
     ]
    }
   ],
   "source": [
    "import numpy as np # linear algebra\n",
    "import pandas as pd # data processing, CSV file I/O (e.g. pd.read_csv)\n",
    "import math\n",
    "\n",
    "from sklearn.cross_validation import cross_val_score, cross_val_predict\n",
    "from sklearn.metrics import make_scorer, mean_squared_error\n",
    "from sklearn.pipeline import Pipeline\n",
    "from sklearn.preprocessing import StandardScaler, RobustScaler\n",
    "from sklearn.kernel_ridge import KernelRidge\n",
    "from sklearn.model_selection import GridSearchCV\n",
    "from sklearn.gaussian_process import GaussianProcessRegressor\n",
    "from sklearn.gaussian_process.kernels import WhiteKernel, Matern, RBF, DotProduct, RationalQuadratic\n",
    "\n",
    "from subprocess import check_output\n",
    "print(check_output([\"ls\", \"../input\"]).decode(\"utf8\"))\n",
    "\n",
    "def rmsle(y, y_pred):\n",
    "    assert len(y) == len(y_pred)\n",
    "    terms_to_sum = [(math.log(y_pred[i] + 1) - math.log(y[i] + 1)) ** 2.0 for i,pred in enumerate(y_pred)]\n",
    "    return (sum(terms_to_sum) * (1.0/len(y))) ** 0.5\n",
    "\n",
    "\n",
    "\n",
    "rmsle_scorer = make_scorer(rmsle, greater_is_better=False)\n",
    "\n",
    "\n",
    "# functions by https://www.kaggle.com/masayukixhirose/house-prices-advanced-regression-techniques/linear-model-roughly-modeling\n",
    "def catcheck(df):\n",
    "    iscat = np.zeros(df.shape[1])\n",
    "    for c in range(df.shape[1]):\n",
    "        if df.dtypes[c] == 'object':\n",
    "            iscat[c] = 1\n",
    "        else:\n",
    "            iscat[c] = 0\n",
    "    catdf = pd.DataFrame({'variable': df.columns, 'iscat': iscat})\n",
    "    havecat = catdf[catdf.iscat == 1]\n",
    "    catcolumn = havecat.variable.tolist()\n",
    "    return catcolumn  \n",
    "#     return df.dtypes[df.dtypes == \"object\"].index\n",
    "\n",
    "\n",
    "def NAcheck(df):\n",
    "    isna = np.zeros(df.shape[1])\n",
    "    for c in range(df.shape[1]):\n",
    "        isna[c] = df.iloc[:, c].isnull().values.any()\n",
    "            # For each columns, it return \"True\" if they have NaN.\n",
    "    nandf = pd.DataFrame({'variable': df.columns, 'isna': isna})\n",
    "    havenan = nandf[nandf.isna == 1]\n",
    "    NAcolumn = havenan.variable.tolist()\n",
    "    return NAcolumn\n",
    "\n",
    "\n"
   ]
  },
  {
   "cell_type": "code",
   "execution_count": 7,
   "metadata": {
    "collapsed": false
   },
   "outputs": [
    {
     "name": "stdout",
     "output_type": "stream",
     "text": [
      "Index([u'MSSubClass', u'LotArea', u'OverallQual', u'OverallCond', u'YearBuilt',\n",
      "       u'YearRemodAdd', u'1stFlrSF', u'2ndFlrSF', u'LowQualFinSF',\n",
      "       u'GrLivArea', u'FullBath', u'HalfBath', u'BedroomAbvGr',\n",
      "       u'KitchenAbvGr', u'TotRmsAbvGrd', u'Fireplaces', u'WoodDeckSF',\n",
      "       u'OpenPorchSF', u'EnclosedPorch', u'3SsnPorch', u'ScreenPorch',\n",
      "       u'PoolArea', u'MiscVal', u'MoSold', u'YrSold'],\n",
      "      dtype='object')\n"
     ]
    }
   ],
   "source": [
    "train = pd.read_csv(\"../input/train.csv\")\n",
    "test = pd.read_csv(\"../input/test.csv\")\n",
    "y_log = np.log1p(train[\"SalePrice\"].values)\n",
    "train1 = train.drop([\"Id\",\"SalePrice\"], axis=1)\n",
    "test1 = test.drop(\"Id\", axis=1)\n",
    "\n",
    "collist = set(NAcheck(train1) + NAcheck(test1))\n",
    "train1 = train1.drop(collist, axis = 1)\n",
    "test1 = test1.drop(collist, axis = 1)\n",
    "\n",
    "\n",
    "train1 = train1.drop(catcheck(train1), axis = 1)\n",
    "test1 = test1.drop(catcheck(test1), axis = 1)\n",
    "\n",
    "print(train1.columns)\n",
    "\n",
    "X = train1.values\n",
    "X_test = test1.values\n",
    "\n"
   ]
  },
  {
   "cell_type": "code",
   "execution_count": 8,
   "metadata": {
    "collapsed": false
   },
   "outputs": [
    {
     "name": "stderr",
     "output_type": "stream",
     "text": [
      "/usr/local/lib/python2.7/site-packages/sklearn/utils/validation.py:429: DataConversionWarning: Data with input dtype int64 was converted to float64 by StandardScaler.\n",
      "  warnings.warn(msg, _DataConversionWarning)\n",
      "/usr/local/lib/python2.7/site-packages/sklearn/utils/validation.py:429: DataConversionWarning: Data with input dtype int64 was converted to float64 by StandardScaler.\n",
      "  warnings.warn(msg, _DataConversionWarning)\n",
      "/usr/local/lib/python2.7/site-packages/sklearn/utils/validation.py:429: DataConversionWarning: Data with input dtype int64 was converted to float64 by StandardScaler.\n",
      "  warnings.warn(msg, _DataConversionWarning)\n",
      "/usr/local/lib/python2.7/site-packages/sklearn/utils/validation.py:429: DataConversionWarning: Data with input dtype int64 was converted to float64 by StandardScaler.\n",
      "  warnings.warn(msg, _DataConversionWarning)\n",
      "/usr/local/lib/python2.7/site-packages/sklearn/gaussian_process/gpr.py:427: UserWarning: fmin_l_bfgs_b terminated abnormally with the  state: {'warnflag': 2, 'task': 'ABNORMAL_TERMINATION_IN_LNSRCH', 'grad': array([  5.08418247e-05,  -7.19848456e-05]), 'nit': 17, 'funcalls': 65}\n",
      "  \" state: %s\" % convergence_dict)\n",
      "/usr/local/lib/python2.7/site-packages/sklearn/gaussian_process/gpr.py:427: UserWarning: fmin_l_bfgs_b terminated abnormally with the  state: {'warnflag': 2, 'task': 'ABNORMAL_TERMINATION_IN_LNSRCH', 'grad': array([ 0.166461  , -0.19492272]), 'nit': 18, 'funcalls': 161}\n",
      "  \" state: %s\" % convergence_dict)\n"
     ]
    },
    {
     "name": "stdout",
     "output_type": "stream",
     "text": [
      "0.145949686577\n",
      "32135.8784235\n"
     ]
    }
   ],
   "source": [
    "#kernel = 1*RBF(length_scale=1.0)\n",
    "kernel = 1.0**2 * Matern(length_scale=1.0, length_scale_bounds=(1e-05, 100000.0), nu=0.5)\n",
    "gp = GaussianProcessRegressor(kernel=kernel, alpha=5e-9, optimizer='fmin_l_bfgs_b', \n",
    "                                n_restarts_optimizer=0, normalize_y=False, copy_X_train=True,\n",
    "                                random_state=2016)\n",
    "clf = Pipeline([('scaler', StandardScaler()), ('gp', gp)])     \n",
    "y_log_centered = y_log - y_log.mean()\n",
    "y_pred = cross_val_predict(clf, X, y_log_centered, cv=5, n_jobs=-1)\n",
    "y = np.expm1(y_log)\n",
    "y_pred = np.expm1(y_pred + y_log.mean())\n",
    "score = rmsle(y,y_pred)\n",
    "\n",
    "print(score) # 0.1459\n",
    "\n",
    "mse = np.sqrt(mean_squared_error(y, y_pred))\n",
    "print mse"
   ]
  },
  {
   "cell_type": "code",
   "execution_count": 5,
   "metadata": {
    "collapsed": false
   },
   "outputs": [
    {
     "name": "stderr",
     "output_type": "stream",
     "text": [
      "/usr/local/lib/python2.7/site-packages/matplotlib/font_manager.py:273: UserWarning: Matplotlib is building the font cache using fc-list. This may take a moment.\n",
      "  warnings.warn('Matplotlib is building the font cache using fc-list. This may take a moment.')\n"
     ]
    },
    {
     "data": {
      "image/png": "[encoded data removed]",
      "text/plain": [
       "<matplotlib.figure.Figure at 0x10b8e8b50>"
      ]
     },
     "metadata": {},
     "output_type": "display_data"
    }
   ],
   "source": [
    "import matplotlib as mpl\n",
    "import matplotlib.pyplot as plt\n",
    "%matplotlib inline\n",
    "import seaborn as sns\n",
    "sns.set(style=\"whitegrid\", color_codes=True)\n",
    "\n",
    "plt.scatter(y_pred, y)\n",
    "plt.plot([min(y_pred),max(y_pred)], [min(y_pred),max(y_pred)], ls=\"--\", c=\".3\")\n",
    "plt.xlim([0,800000])\n",
    "plt.ylim([0,800000])\n",
    "plt.xlabel(\"Prediction\")\n",
    "plt.ylabel(\"Ground Truth\")\n",
    "plt.show()\n",
    "\n"
   ]
  },
  {
   "cell_type": "code",
   "execution_count": 6,
   "metadata": {
    "collapsed": false
   },
   "outputs": [
    {
     "name": "stderr",
     "output_type": "stream",
     "text": [
      "/usr/local/lib/python2.7/site-packages/sklearn/utils/validation.py:429: DataConversionWarning: Data with input dtype int64 was converted to float64 by StandardScaler.\n",
      "  warnings.warn(msg, _DataConversionWarning)\n",
      "/usr/local/lib/python2.7/site-packages/sklearn/gaussian_process/gpr.py:427: UserWarning: fmin_l_bfgs_b terminated abnormally with the  state: {'warnflag': 2, 'task': 'ABNORMAL_TERMINATION_IN_LNSRCH', 'grad': array([ 0.03259475, -0.06916236]), 'nit': 14, 'funcalls': 72}\n",
      "  \" state: %s\" % convergence_dict)\n"
     ]
    },
    {
     "name": "stdout",
     "output_type": "stream",
     "text": [
      "1.38**2 * Matern(length_scale=198, nu=0.5)\n",
      "('Writing submission: ', 'submission_0.145949686577_2016-10-29-21-15.csv')\n"
     ]
    }
   ],
   "source": [
    "# predict\n",
    "clf.fit(X,y_log_centered)\n",
    "prediction = clf.predict(X_test)\n",
    "print(clf.steps[1][1].kernel_)\n",
    "prediction = np.expm1(prediction + y_log.mean())\n",
    "def write_to_csv(output,score):\n",
    "    import datetime\n",
    "    import csv\n",
    "    now = datetime.datetime.now()\n",
    "    sub_file = 'submission_' + str(score) + '_' + str(now.strftime(\"%Y-%m-%d-%H-%M\")) + '.csv'\n",
    "    print('Writing submission: ', sub_file)\n",
    "    f = open(sub_file, 'w')\n",
    "    prediction_file_object = csv.writer(f)\n",
    "    prediction_file_object.writerow([\"Id\",\"SalePrice\"])  # don't forget the headers\n",
    "\n",
    "    for i in range(len(test)):\n",
    "        prediction_file_object.writerow([test[\"Id\"][test.index[i]], (output[i])])\n",
    "\n",
    "        \n",
    "write_to_csv(prediction, score)\n",
    "\n",
    "\n"
   ]
  }
 ],
 "metadata": {
  "kernelspec": {
   "display_name": "Python 2",
   "language": "python",
   "name": "python2"
  },
  "language_info": {
   "codemirror_mode": {
    "name": "ipython",
    "version": 2
   },
   "file_extension": ".py",
   "mimetype": "text/x-python",
   "name": "python",
   "nbconvert_exporter": "python",
   "pygments_lexer": "ipython2",
   "version": "2.7.11"
  }
 },
 "nbformat": 4,
 "nbformat_minor": 0
}
